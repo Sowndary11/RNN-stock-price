{
 "cells": [
  {
   "cell_type": "markdown",
   "metadata": {
    "id": "6GOETbw78f8X"
   },
   "source": [
    "# RNN Model for Stock Price Prediction"
   ]
  },
  {
   "cell_type": "markdown",
   "metadata": {
    "id": "0E14a3TzA2jX"
   },
   "source": []
  },
  {
   "cell_type": "code",
   "execution_count": 1,
   "metadata": {
    "id": "m5QhBQGu8x4I"
   },
   "outputs": [],
   "source": [
    "# Importing the libraries\n",
    "import numpy as np\n",
    "import pandas as pd\n",
    "import matplotlib.pyplot as plt\n",
    "\n",
    "from sklearn.preprocessing import MinMaxScaler\n",
    "from sklearn.metrics import mean_squared_error\n",
    "\n",
    "from tensorflow.keras.models import Sequential\n",
    "from tensorflow.keras.layers import Dense, LSTM, Dropout, GRU, Bidirectional\n",
    "from tensorflow.keras.optimizers import SGD\n",
    "from tensorflow.random import set_seed\n",
    "\n",
    "set_seed(455)\n",
    "np.random.seed(455)"
   ]
  },
  {
   "cell_type": "code",
   "execution_count": 19,
   "metadata": {
    "colab": {
     "base_uri": "https://localhost:8080/"
    },
    "id": "A0ZOgUVdCbfk",
    "outputId": "9726ff0b-f036-4b4e-da6d-26755796370a"
   },
   "outputs": [
    {
     "name": "stdout",
     "output_type": "stream",
     "text": [
      "<class 'pandas.core.frame.DataFrame'>\n",
      "RangeIndex: 3872 entries, 0 to 3871\n",
      "Data columns (total 8 columns):\n",
      " #   Column        Non-Null Count  Dtype  \n",
      "---  ------        --------------  -----  \n",
      " 0   Date          3872 non-null   object \n",
      " 1   Open          3872 non-null   float64\n",
      " 2   High          3872 non-null   float64\n",
      " 3   Low           3872 non-null   float64\n",
      " 4   Close         3872 non-null   float64\n",
      " 5   Volume        3872 non-null   int64  \n",
      " 6   Dividends     3872 non-null   float64\n",
      " 7   Stock Splits  3872 non-null   float64\n",
      "dtypes: float64(6), int64(1), object(1)\n",
      "memory usage: 242.1+ KB\n"
     ]
    }
   ],
   "source": [
    "df = pd.read_csv('/content/drive/MyDrive/Colab Notebooks/Mastercard_stock_history.csv')\n",
    "df.info()"
   ]
  },
  {
   "cell_type": "code",
   "execution_count": 20,
   "metadata": {
    "colab": {
     "base_uri": "https://localhost:8080/"
    },
    "id": "cwjcw50vDril",
    "outputId": "f10f8a2d-c151-4948-f4b4-4b7410498a02"
   },
   "outputs": [
    {
     "name": "stdout",
     "output_type": "stream",
     "text": [
      "<class 'pandas.core.frame.DataFrame'>\n",
      "RangeIndex: 3872 entries, 0 to 3871\n",
      "Data columns (total 8 columns):\n",
      " #   Column        Non-Null Count  Dtype         \n",
      "---  ------        --------------  -----         \n",
      " 0   Date          3872 non-null   datetime64[ns]\n",
      " 1   Open          3872 non-null   float64       \n",
      " 2   High          3872 non-null   float64       \n",
      " 3   Low           3872 non-null   float64       \n",
      " 4   Close         3872 non-null   float64       \n",
      " 5   Volume        3872 non-null   int64         \n",
      " 6   Dividends     3872 non-null   float64       \n",
      " 7   Stock Splits  3872 non-null   float64       \n",
      "dtypes: datetime64[ns](1), float64(6), int64(1)\n",
      "memory usage: 242.1 KB\n"
     ]
    }
   ],
   "source": [
    "df.Date = pd.to_datetime(df.Date)\n",
    "df.info()"
   ]
  },
  {
   "cell_type": "code",
   "execution_count": 21,
   "metadata": {
    "colab": {
     "base_uri": "https://localhost:8080/"
    },
    "id": "rSQnCvIuCvqa",
    "outputId": "4d0a30b0-56d7-4075-f7e3-57859dc9c0cc"
   },
   "outputs": [
    {
     "name": "stdout",
     "output_type": "stream",
     "text": [
      "<class 'pandas.core.frame.DataFrame'>\n",
      "DatetimeIndex: 3872 entries, 2006-05-25 to 2021-10-11\n",
      "Data columns (total 7 columns):\n",
      " #   Column        Non-Null Count  Dtype  \n",
      "---  ------        --------------  -----  \n",
      " 0   Open          3872 non-null   float64\n",
      " 1   High          3872 non-null   float64\n",
      " 2   Low           3872 non-null   float64\n",
      " 3   Close         3872 non-null   float64\n",
      " 4   Volume        3872 non-null   int64  \n",
      " 5   Dividends     3872 non-null   float64\n",
      " 6   Stock Splits  3872 non-null   float64\n",
      "dtypes: float64(6), int64(1)\n",
      "memory usage: 242.0 KB\n"
     ]
    }
   ],
   "source": [
    "df.set_index('Date',inplace=True)\n",
    "df.info()"
   ]
  },
  {
   "cell_type": "code",
   "execution_count": 22,
   "metadata": {
    "colab": {
     "base_uri": "https://localhost:8080/"
    },
    "id": "I8S_OtHXDPWm",
    "outputId": "77471a71-e413-4387-edf1-cc1cac758217"
   },
   "outputs": [
    {
     "name": "stdout",
     "output_type": "stream",
     "text": [
      "<class 'pandas.core.frame.DataFrame'>\n",
      "DatetimeIndex: 3872 entries, 2006-05-25 to 2021-10-11\n",
      "Data columns (total 5 columns):\n",
      " #   Column  Non-Null Count  Dtype  \n",
      "---  ------  --------------  -----  \n",
      " 0   Open    3872 non-null   float64\n",
      " 1   High    3872 non-null   float64\n",
      " 2   Low     3872 non-null   float64\n",
      " 3   Close   3872 non-null   float64\n",
      " 4   Volume  3872 non-null   int64  \n",
      "dtypes: float64(4), int64(1)\n",
      "memory usage: 181.5 KB\n"
     ]
    }
   ],
   "source": [
    "df.drop(['Dividends','Stock Splits'], axis=1, inplace=True)\n",
    "df.info()"
   ]
  },
  {
   "cell_type": "code",
   "execution_count": 30,
   "metadata": {
    "colab": {
     "base_uri": "https://localhost:8080/",
     "height": 238
    },
    "id": "PQ1ZdCCqGn0M",
    "outputId": "4d68af7c-6db6-4512-df78-b16542771e59"
   },
   "outputs": [
    {
     "data": {
      "text/html": [
       "\n",
       "  <div id=\"df-07b81eed-e70a-4b3b-a5ee-618444ac4f24\">\n",
       "    <div class=\"colab-df-container\">\n",
       "      <div>\n",
       "<style scoped>\n",
       "    .dataframe tbody tr th:only-of-type {\n",
       "        vertical-align: middle;\n",
       "    }\n",
       "\n",
       "    .dataframe tbody tr th {\n",
       "        vertical-align: top;\n",
       "    }\n",
       "\n",
       "    .dataframe thead th {\n",
       "        text-align: right;\n",
       "    }\n",
       "</style>\n",
       "<table border=\"1\" class=\"dataframe\">\n",
       "  <thead>\n",
       "    <tr style=\"text-align: right;\">\n",
       "      <th></th>\n",
       "      <th>Open</th>\n",
       "      <th>High</th>\n",
       "      <th>Low</th>\n",
       "      <th>Close</th>\n",
       "      <th>Volume</th>\n",
       "    </tr>\n",
       "    <tr>\n",
       "      <th>Date</th>\n",
       "      <th></th>\n",
       "      <th></th>\n",
       "      <th></th>\n",
       "      <th></th>\n",
       "      <th></th>\n",
       "    </tr>\n",
       "  </thead>\n",
       "  <tbody>\n",
       "    <tr>\n",
       "      <th>2006-05-25</th>\n",
       "      <td>3.748967</td>\n",
       "      <td>4.283869</td>\n",
       "      <td>3.739664</td>\n",
       "      <td>4.279217</td>\n",
       "      <td>395343000</td>\n",
       "    </tr>\n",
       "    <tr>\n",
       "      <th>2006-05-26</th>\n",
       "      <td>4.307126</td>\n",
       "      <td>4.348058</td>\n",
       "      <td>4.103398</td>\n",
       "      <td>4.179680</td>\n",
       "      <td>103044000</td>\n",
       "    </tr>\n",
       "    <tr>\n",
       "      <th>2006-05-30</th>\n",
       "      <td>4.183400</td>\n",
       "      <td>4.184330</td>\n",
       "      <td>3.986184</td>\n",
       "      <td>4.093164</td>\n",
       "      <td>49898000</td>\n",
       "    </tr>\n",
       "    <tr>\n",
       "      <th>2006-05-31</th>\n",
       "      <td>4.125723</td>\n",
       "      <td>4.219679</td>\n",
       "      <td>4.125723</td>\n",
       "      <td>4.180608</td>\n",
       "      <td>30002000</td>\n",
       "    </tr>\n",
       "    <tr>\n",
       "      <th>2006-06-01</th>\n",
       "      <td>4.179678</td>\n",
       "      <td>4.474572</td>\n",
       "      <td>4.176887</td>\n",
       "      <td>4.419686</td>\n",
       "      <td>62344000</td>\n",
       "    </tr>\n",
       "  </tbody>\n",
       "</table>\n",
       "</div>\n",
       "      <button class=\"colab-df-convert\" onclick=\"convertToInteractive('df-07b81eed-e70a-4b3b-a5ee-618444ac4f24')\"\n",
       "              title=\"Convert this dataframe to an interactive table.\"\n",
       "              style=\"display:none;\">\n",
       "        \n",
       "  <svg xmlns=\"http://www.w3.org/2000/svg\" height=\"24px\"viewBox=\"0 0 24 24\"\n",
       "       width=\"24px\">\n",
       "    <path d=\"M0 0h24v24H0V0z\" fill=\"none\"/>\n",
       "    <path d=\"M18.56 5.44l.94 2.06.94-2.06 2.06-.94-2.06-.94-.94-2.06-.94 2.06-2.06.94zm-11 1L8.5 8.5l.94-2.06 2.06-.94-2.06-.94L8.5 2.5l-.94 2.06-2.06.94zm10 10l.94 2.06.94-2.06 2.06-.94-2.06-.94-.94-2.06-.94 2.06-2.06.94z\"/><path d=\"M17.41 7.96l-1.37-1.37c-.4-.4-.92-.59-1.43-.59-.52 0-1.04.2-1.43.59L10.3 9.45l-7.72 7.72c-.78.78-.78 2.05 0 2.83L4 21.41c.39.39.9.59 1.41.59.51 0 1.02-.2 1.41-.59l7.78-7.78 2.81-2.81c.8-.78.8-2.07 0-2.86zM5.41 20L4 18.59l7.72-7.72 1.47 1.35L5.41 20z\"/>\n",
       "  </svg>\n",
       "      </button>\n",
       "      \n",
       "  <style>\n",
       "    .colab-df-container {\n",
       "      display:flex;\n",
       "      flex-wrap:wrap;\n",
       "      gap: 12px;\n",
       "    }\n",
       "\n",
       "    .colab-df-convert {\n",
       "      background-color: #E8F0FE;\n",
       "      border: none;\n",
       "      border-radius: 50%;\n",
       "      cursor: pointer;\n",
       "      display: none;\n",
       "      fill: #1967D2;\n",
       "      height: 32px;\n",
       "      padding: 0 0 0 0;\n",
       "      width: 32px;\n",
       "    }\n",
       "\n",
       "    .colab-df-convert:hover {\n",
       "      background-color: #E2EBFA;\n",
       "      box-shadow: 0px 1px 2px rgba(60, 64, 67, 0.3), 0px 1px 3px 1px rgba(60, 64, 67, 0.15);\n",
       "      fill: #174EA6;\n",
       "    }\n",
       "\n",
       "    [theme=dark] .colab-df-convert {\n",
       "      background-color: #3B4455;\n",
       "      fill: #D2E3FC;\n",
       "    }\n",
       "\n",
       "    [theme=dark] .colab-df-convert:hover {\n",
       "      background-color: #434B5C;\n",
       "      box-shadow: 0px 1px 3px 1px rgba(0, 0, 0, 0.15);\n",
       "      filter: drop-shadow(0px 1px 2px rgba(0, 0, 0, 0.3));\n",
       "      fill: #FFFFFF;\n",
       "    }\n",
       "  </style>\n",
       "\n",
       "      <script>\n",
       "        const buttonEl =\n",
       "          document.querySelector('#df-07b81eed-e70a-4b3b-a5ee-618444ac4f24 button.colab-df-convert');\n",
       "        buttonEl.style.display =\n",
       "          google.colab.kernel.accessAllowed ? 'block' : 'none';\n",
       "\n",
       "        async function convertToInteractive(key) {\n",
       "          const element = document.querySelector('#df-07b81eed-e70a-4b3b-a5ee-618444ac4f24');\n",
       "          const dataTable =\n",
       "            await google.colab.kernel.invokeFunction('convertToInteractive',\n",
       "                                                     [key], {});\n",
       "          if (!dataTable) return;\n",
       "\n",
       "          const docLinkHtml = 'Like what you see? Visit the ' +\n",
       "            '<a target=\"_blank\" href=https://colab.research.google.com/notebooks/data_table.ipynb>data table notebook</a>'\n",
       "            + ' to learn more about interactive tables.';\n",
       "          element.innerHTML = '';\n",
       "          dataTable['output_type'] = 'display_data';\n",
       "          await google.colab.output.renderOutput(dataTable, element);\n",
       "          const docLink = document.createElement('div');\n",
       "          docLink.innerHTML = docLinkHtml;\n",
       "          element.appendChild(docLink);\n",
       "        }\n",
       "      </script>\n",
       "    </div>\n",
       "  </div>\n",
       "  "
      ],
      "text/plain": [
       "                Open      High       Low     Close     Volume\n",
       "Date                                                         \n",
       "2006-05-25  3.748967  4.283869  3.739664  4.279217  395343000\n",
       "2006-05-26  4.307126  4.348058  4.103398  4.179680  103044000\n",
       "2006-05-30  4.183400  4.184330  3.986184  4.093164   49898000\n",
       "2006-05-31  4.125723  4.219679  4.125723  4.180608   30002000\n",
       "2006-06-01  4.179678  4.474572  4.176887  4.419686   62344000"
      ]
     },
     "execution_count": 30,
     "metadata": {},
     "output_type": "execute_result"
    }
   ],
   "source": [
    "df.head()"
   ]
  },
  {
   "cell_type": "code",
   "execution_count": 23,
   "metadata": {
    "colab": {
     "base_uri": "https://localhost:8080/"
    },
    "id": "f1sLPhJD84Bz",
    "outputId": "e1dbc4be-08a2-4cac-cacd-312491a692a8"
   },
   "outputs": [
    {
     "name": "stdout",
     "output_type": "stream",
     "text": [
      "                Open      High       Low     Close     Volume\n",
      "Date                                                         \n",
      "2006-05-25  3.748967  4.283869  3.739664  4.279217  395343000\n",
      "2006-05-26  4.307126  4.348058  4.103398  4.179680  103044000\n",
      "2006-05-30  4.183400  4.184330  3.986184  4.093164   49898000\n",
      "2006-05-31  4.125723  4.219679  4.125723  4.180608   30002000\n",
      "2006-06-01  4.179678  4.474572  4.176887  4.419686   62344000\n"
     ]
    }
   ],
   "source": [
    "dataset = pd.read_csv(\n",
    "    \"/content/drive/MyDrive/Colab Notebooks/Mastercard_stock_history.csv\", index_col=\"Date\", parse_dates=[\"Date\"]\n",
    ").drop([\"Dividends\", \"Stock Splits\"], axis=1)\n",
    "print(dataset.head())"
   ]
  },
  {
   "cell_type": "code",
   "execution_count": 3,
   "metadata": {
    "colab": {
     "base_uri": "https://localhost:8080/"
    },
    "id": "CJJ7-Gww9Dzg",
    "outputId": "affe6c3c-6ad5-4f6a-956f-f0b03fbcd638"
   },
   "outputs": [
    {
     "name": "stdout",
     "output_type": "stream",
     "text": [
      "              Open         High          Low        Close        Volume\n",
      "count  3872.000000  3872.000000  3872.000000  3872.000000  3.872000e+03\n",
      "mean    104.896814   105.956054   103.769349   104.882714  1.232250e+07\n",
      "std     106.245511   107.303589   105.050064   106.168693  1.759665e+07\n",
      "min       3.748967     4.102467     3.739664     4.083861  6.411000e+05\n",
      "25%      22.347203    22.637997    22.034458    22.300391  3.529475e+06\n",
      "50%      70.810079    71.375896    70.224002    70.856083  5.891750e+06\n",
      "75%     147.688448   148.645373   146.822013   147.688438  1.319775e+07\n",
      "max     392.653890   400.521479   389.747812   394.685730  3.953430e+08\n"
     ]
    }
   ],
   "source": [
    "## Describing the dataset\n",
    "print(dataset.describe())"
   ]
  },
  {
   "cell_type": "code",
   "execution_count": 24,
   "metadata": {
    "colab": {
     "base_uri": "https://localhost:8080/"
    },
    "id": "ppJ6cc569Mlv",
    "outputId": "ee7985e2-b170-4e64-ca71-b43220a2f49a"
   },
   "outputs": [
    {
     "data": {
      "text/plain": [
       "Open      0\n",
       "High      0\n",
       "Low       0\n",
       "Close     0\n",
       "Volume    0\n",
       "dtype: int64"
      ]
     },
     "execution_count": 24,
     "metadata": {},
     "output_type": "execute_result"
    }
   ],
   "source": [
    "## Checking if there is any null values\n",
    "dataset.isna().sum()"
   ]
  },
  {
   "cell_type": "markdown",
   "metadata": {
    "id": "ep_sNKZs-PAt"
   },
   "source": [
    "Function to create train and test dataset from the given time series data."
   ]
  },
  {
   "cell_type": "code",
   "execution_count": 26,
   "metadata": {
    "colab": {
     "base_uri": "https://localhost:8080/"
    },
    "id": "sfFG8NSiEO4r",
    "outputId": "8785f982-5f5f-467a-ce45-f7270ad53e7a"
   },
   "outputs": [
    {
     "data": {
      "text/plain": [
       "(Timestamp('2006-05-25 00:00:00'), Timestamp('2021-10-11 00:00:00'))"
      ]
     },
     "execution_count": 26,
     "metadata": {},
     "output_type": "execute_result"
    }
   ],
   "source": [
    "dataset.index.min(), dataset.index.max()"
   ]
  },
  {
   "cell_type": "code",
   "execution_count": 28,
   "metadata": {
    "colab": {
     "base_uri": "https://localhost:8080/"
    },
    "id": "pwnlZmxgEwz-",
    "outputId": "4703e380-4e46-4421-9efa-19180f030f8c"
   },
   "outputs": [
    {
     "name": "stdout",
     "output_type": "stream",
     "text": [
      "2016\n"
     ]
    }
   ],
   "source": [
    "## Train and Test Plot function\n",
    "tstart = 2016\n",
    "tend = 2020\n",
    "\n",
    "print(f'{tstart}')"
   ]
  },
  {
   "cell_type": "code",
   "execution_count": 33,
   "metadata": {
    "colab": {
     "base_uri": "https://localhost:8080/",
     "height": 291
    },
    "id": "cjBLQSG9FvfZ",
    "outputId": "fdeba28e-0692-42fb-a7c0-856f13146319"
   },
   "outputs": [
    {
     "data": {
      "image/png": "[encoded data removed]",
      "text/plain": [
       "<Figure size 1152x360 with 1 Axes>"
      ]
     },
     "metadata": {
      "needs_background": "light"
     },
     "output_type": "display_data"
    }
   ],
   "source": [
    "plt.figure(figsize=(16,5))\n",
    "df.loc[\"2016\":\"2020\", 'High'].plot(legend=True)\n",
    "df.loc[\"2021\":, 'High'].plot(legend=True)\n",
    "plt.legend(['Train before 2021', 'Test after 2020'])\n",
    "plt.title('Mastercard Stock Price')\n",
    "plt.show()"
   ]
  },
  {
   "cell_type": "code",
   "execution_count": 27,
   "metadata": {
    "colab": {
     "base_uri": "https://localhost:8080/",
     "height": 249
    },
    "id": "JZ9Bniq9-D6g",
    "outputId": "46e48597-0e93-4020-92b1-6a3c168de33f"
   },
   "outputs": [
    {
     "data": {
      "image/png": "[encoded data removed]",
      "text/plain": [
       "<Figure size 1152x288 with 1 Axes>"
      ]
     },
     "metadata": {
      "needs_background": "light"
     },
     "output_type": "display_data"
    }
   ],
   "source": [
    "\n",
    "\n",
    "def train_test_plot(dataset, tstart, tend):\n",
    "    dataset.loc[f\"{tstart}\":f\"{tend}\", \"High\"].plot(figsize=(16, 4), legend=True)\n",
    "    dataset.loc[f\"{tend+1}\":, \"High\"].plot(figsize=(16, 4), legend=True)\n",
    "    plt.legend([f\"Train (Before {tend+1})\", f\"Test ({tend+1} and beyond)\"])\n",
    "    plt.title(\"MasterCard stock price\")\n",
    "    plt.show()\n",
    "\n",
    "train_test_plot(dataset,tstart,tend)"
   ]
  },
  {
   "cell_type": "markdown",
   "metadata": {
    "id": "B07YbIpc-jiT"
   },
   "source": [
    "Function to split train and test data"
   ]
  },
  {
   "cell_type": "code",
   "execution_count": 34,
   "metadata": {
    "id": "aagIBQTb-Y2P"
   },
   "outputs": [],
   "source": [
    "## Train and Test data split function\n",
    "def train_test_split(dataset, tstart, tend):\n",
    "    train = dataset.loc[f\"{tstart}\":f\"{tend}\", \"High\"].values\n",
    "    test = dataset.loc[f\"{tend+1}\":, \"High\"].values\n",
    "    return train, test\n",
    "\n",
    "training_set, test_set = train_test_split(dataset, tstart, tend)"
   ]
  },
  {
   "cell_type": "markdown",
   "metadata": {
    "id": "3NJ-Z1Jz-vfR"
   },
   "source": [
    "Scaling the data using MinMaxScaler"
   ]
  },
  {
   "cell_type": "code",
   "execution_count": 35,
   "metadata": {
    "id": "kgLa50Oa-qkv"
   },
   "outputs": [],
   "source": [
    "sc = MinMaxScaler(feature_range=(0, 1))\n",
    "training_set = training_set.reshape(-1, 1)\n",
    "training_set_scaled = sc.fit_transform(training_set)"
   ]
  },
  {
   "cell_type": "markdown",
   "metadata": {
    "id": "OgS3_Diq-7dD"
   },
   "source": [
    "### Creating the input data from the given time series data"
   ]
  },
  {
   "cell_type": "code",
   "execution_count": 37,
   "metadata": {
    "colab": {
     "base_uri": "https://localhost:8080/"
    },
    "id": "qzC0Hx96LP7h",
    "outputId": "c93533ef-373f-41a2-8768-5bd0070ec9ab"
   },
   "outputs": [
    {
     "data": {
      "text/plain": [
       "(array([[92.37765141],\n",
       "        [91.1718942 ],\n",
       "        [89.22077038],\n",
       "        [89.09518007],\n",
       "        [87.99405878],\n",
       "        [88.73780394],\n",
       "        [89.00826694],\n",
       "        [88.56394672],\n",
       "        [86.23612085],\n",
       "        [86.68044406],\n",
       "        [83.02930409],\n",
       "        [84.5457772 ],\n",
       "        [85.80145987],\n",
       "        [85.18327616],\n",
       "        [84.51679712],\n",
       "        [84.08215367],\n",
       "        [82.72987684],\n",
       "        [86.2071371 ],\n",
       "        [86.15883501],\n",
       "        [84.74862389],\n",
       "        [83.80202531],\n",
       "        [83.90827081],\n",
       "        [83.37706382],\n",
       "        [78.95317918],\n",
       "        [80.39238272],\n",
       "        [81.94750901],\n",
       "        [79.96737867],\n",
       "        [82.36283033],\n",
       "        [83.63783145],\n",
       "        [84.61341256],\n",
       "        [84.46849124],\n",
       "        [83.89861442],\n",
       "        [85.22192237],\n",
       "        [84.85486824],\n",
       "        [83.80200654],\n",
       "        [84.44919055],\n",
       "        [85.56963277],\n",
       "        [85.80145025],\n",
       "        [87.05713611],\n",
       "        [87.0184804 ],\n",
       "        [87.06677621],\n",
       "        [87.47246527],\n",
       "        [86.69009681],\n",
       "        [84.76791695],\n",
       "        [84.6133968 ],\n",
       "        [85.19293967],\n",
       "        [86.12020973],\n",
       "        [86.09122585],\n",
       "        [86.6417896 ],\n",
       "        [87.24066703],\n",
       "        [88.53498704],\n",
       "        [89.28838382],\n",
       "        [89.47190677],\n",
       "        [89.06621615],\n",
       "        [89.49124343],\n",
       "        [88.83438023],\n",
       "        [89.15316111],\n",
       "        [89.86792849],\n",
       "        [90.95939066],\n",
       "        [91.70314596]]), array([92.83326353]))"
      ]
     },
     "execution_count": 37,
     "metadata": {},
     "output_type": "execute_result"
    }
   ],
   "source": [
    "training_set[1:61], training_set[61]"
   ]
  },
  {
   "cell_type": "code",
   "execution_count": 41,
   "metadata": {
    "id": "55AK-Xlg-0FF"
   },
   "outputs": [],
   "source": [
    "def split_sequence(sequence, n_steps):\n",
    "    X, y = list(), list()\n",
    "    for i in range(len(sequence)):\n",
    "        end_ix = i + n_steps\n",
    "        if end_ix > len(sequence) - 1:\n",
    "            break\n",
    "        seq_x, seq_y = sequence[i:end_ix], sequence[end_ix]\n",
    "        X.append(seq_x)\n",
    "        y.append(seq_y)\n",
    "    return np.array(X), np.array(y)\n",
    "\n",
    "\n",
    "n_steps = 60\n",
    "features = 1\n",
    "# split into samples\n",
    "X_train, y_train = split_sequence(training_set_scaled, n_steps)"
   ]
  },
  {
   "cell_type": "code",
   "execution_count": 42,
   "metadata": {
    "colab": {
     "base_uri": "https://localhost:8080/"
    },
    "id": "7r7s-X2lM51v",
    "outputId": "ed014edc-f298-4230-fb46-d8db721c8c40"
   },
   "outputs": [
    {
     "data": {
      "text/plain": [
       "(1199, 60, 1)"
      ]
     },
     "execution_count": 42,
     "metadata": {},
     "output_type": "execute_result"
    }
   ],
   "source": [
    "X_train.shape"
   ]
  },
  {
   "cell_type": "markdown",
   "metadata": {
    "id": "96TDDMn0_EGH"
   },
   "source": [
    "Viewing the train data "
   ]
  },
  {
   "cell_type": "code",
   "execution_count": null,
   "metadata": {
    "colab": {
     "base_uri": "https://localhost:8080/"
    },
    "id": "fc4jETxJ_DBF",
    "outputId": "eb6e1319-d033-48c7-e428-0ac5ba74bb33"
   },
   "outputs": [
    {
     "name": "stdout",
     "output_type": "stream",
     "text": [
      "[[0.04611702]\n",
      " [0.04692574]\n",
      " [0.04271097]\n",
      " [0.03589075]\n",
      " [0.03545174]\n",
      " [0.03160273]\n",
      " [0.03420252]\n",
      " [0.03514793]\n",
      " [0.0335948 ]\n",
      " [0.02545779]\n",
      " [0.02701094]\n",
      " [0.01424825]\n",
      " [0.01954913]\n",
      " [0.02393842]\n",
      " [0.02177754]\n",
      " [0.01944783]\n",
      " [0.01792852]\n",
      " [0.01320159]\n",
      " [0.02535648]\n",
      " [0.02518764]\n",
      " [0.02025819]\n",
      " [0.01694932]\n",
      " [0.01732071]\n",
      " [0.01546385]\n",
      " [0.        ]\n",
      " [0.00503079]\n",
      " [0.01046679]\n",
      " [0.00354517]\n",
      " [0.01191856]\n",
      " [0.01637538]\n",
      " [0.01978556]\n",
      " [0.01927898]\n",
      " [0.01728695]\n",
      " [0.02191263]\n",
      " [0.02062957]\n",
      " [0.01694926]\n",
      " [0.01921151]\n",
      " [0.02312806]\n",
      " [0.02393839]\n",
      " [0.02832768]\n",
      " [0.02819256]\n",
      " [0.02836138]\n",
      " [0.02977948]\n",
      " [0.02704468]\n",
      " [0.02032563]\n",
      " [0.0197855 ]\n",
      " [0.02181132]\n",
      " [0.02505262]\n",
      " [0.02495131]\n",
      " [0.02687582]\n",
      " [0.02896922]\n",
      " [0.03349357]\n",
      " [0.03612709]\n",
      " [0.0367686 ]\n",
      " [0.0353505 ]\n",
      " [0.0368362 ]\n",
      " [0.03454011]\n",
      " [0.03565442]\n",
      " [0.03815291]\n",
      " [0.04196816]]\n",
      "\n",
      "\n",
      "Number of values in each record (features) : 60\n"
     ]
    }
   ],
   "source": [
    "## Printing the first record after sequencing\n",
    "print(X_train[0])\n",
    "\n",
    "## Number of input values in the each record\n",
    "print(\"\\n\\nNumber of values in each record (features) :\", len(X_train[0]))"
   ]
  },
  {
   "cell_type": "code",
   "execution_count": 40,
   "metadata": {
    "colab": {
     "base_uri": "https://localhost:8080/"
    },
    "id": "aff2dUU7Ml5m",
    "outputId": "a345ee50-283a-4fd7-be7d-d5e9c5658a47"
   },
   "outputs": [
    {
     "data": {
      "text/plain": [
       "(1199, 60, 1)"
      ]
     },
     "execution_count": 40,
     "metadata": {},
     "output_type": "execute_result"
    }
   ],
   "source": [
    "X_train.shape"
   ]
  },
  {
   "cell_type": "code",
   "execution_count": 43,
   "metadata": {
    "id": "wQQfrcW7_Hj_"
   },
   "outputs": [],
   "source": [
    "# Reshaping X_train for model\n",
    "X_train = X_train.reshape(X_train.shape[0],X_train.shape[1],features)"
   ]
  },
  {
   "cell_type": "code",
   "execution_count": null,
   "metadata": {
    "colab": {
     "base_uri": "https://localhost:8080/"
    },
    "id": "ux14jl71_rg2",
    "outputId": "9205db4f-e2b6-4dd7-a437-00dda41605ab"
   },
   "outputs": [
    {
     "data": {
      "text/plain": [
       "(1199, 60, 1)"
      ]
     },
     "execution_count": 12,
     "metadata": {},
     "output_type": "execute_result"
    }
   ],
   "source": [
    "X_train.shape"
   ]
  },
  {
   "cell_type": "code",
   "execution_count": null,
   "metadata": {
    "colab": {
     "base_uri": "https://localhost:8080/"
    },
    "id": "F8gK-1lx_tV0",
    "outputId": "deb61ddb-1e98-4882-91f5-b31f00ce1c39"
   },
   "outputs": [
    {
     "data": {
      "text/plain": [
       "array([[0.04611702],\n",
       "       [0.04692574],\n",
       "       [0.04271097],\n",
       "       [0.03589075],\n",
       "       [0.03545174],\n",
       "       [0.03160273],\n",
       "       [0.03420252],\n",
       "       [0.03514793],\n",
       "       [0.0335948 ],\n",
       "       [0.02545779],\n",
       "       [0.02701094],\n",
       "       [0.01424825],\n",
       "       [0.01954913],\n",
       "       [0.02393842],\n",
       "       [0.02177754],\n",
       "       [0.01944783],\n",
       "       [0.01792852],\n",
       "       [0.01320159],\n",
       "       [0.02535648],\n",
       "       [0.02518764],\n",
       "       [0.02025819],\n",
       "       [0.01694932],\n",
       "       [0.01732071],\n",
       "       [0.01546385],\n",
       "       [0.        ],\n",
       "       [0.00503079],\n",
       "       [0.01046679],\n",
       "       [0.00354517],\n",
       "       [0.01191856],\n",
       "       [0.01637538],\n",
       "       [0.01978556],\n",
       "       [0.01927898],\n",
       "       [0.01728695],\n",
       "       [0.02191263],\n",
       "       [0.02062957],\n",
       "       [0.01694926],\n",
       "       [0.01921151],\n",
       "       [0.02312806],\n",
       "       [0.02393839],\n",
       "       [0.02832768],\n",
       "       [0.02819256],\n",
       "       [0.02836138],\n",
       "       [0.02977948],\n",
       "       [0.02704468],\n",
       "       [0.02032563],\n",
       "       [0.0197855 ],\n",
       "       [0.02181132],\n",
       "       [0.02505262],\n",
       "       [0.02495131],\n",
       "       [0.02687582],\n",
       "       [0.02896922],\n",
       "       [0.03349357],\n",
       "       [0.03612709],\n",
       "       [0.0367686 ],\n",
       "       [0.0353505 ],\n",
       "       [0.0368362 ],\n",
       "       [0.03454011],\n",
       "       [0.03565442],\n",
       "       [0.03815291],\n",
       "       [0.04196816]])"
      ]
     },
     "execution_count": 13,
     "metadata": {},
     "output_type": "execute_result"
    }
   ],
   "source": [
    "X_train[0]"
   ]
  },
  {
   "cell_type": "code",
   "execution_count": null,
   "metadata": {
    "id": "s-z2dDCK_zRd"
   },
   "outputs": [],
   "source": [
    "# The LSTM architecture\n",
    "model_lstm = Sequential()\n",
    "\n",
    "## RNN Layer\n",
    "model_lstm.add(LSTM(units=125, activation=\"tanh\", input_shape=(n_steps, features)))\n",
    "\n",
    "## Output Layer\n",
    "model_lstm.add(Dense(units=1))\n",
    "\n",
    "# Compiling the model\n",
    "model_lstm.compile(optimizer=\"RMSprop\", loss=\"mse\")"
   ]
  },
  {
   "cell_type": "code",
   "execution_count": null,
   "metadata": {
    "colab": {
     "base_uri": "https://localhost:8080/"
    },
    "id": "z4P01DREAK06",
    "outputId": "a4c35230-83c8-42c7-9f6f-4c69de0d1dc9"
   },
   "outputs": [
    {
     "name": "stdout",
     "output_type": "stream",
     "text": [
      "Epoch 1/50\n",
      "38/38 [==============================] - 7s 8ms/step - loss: 0.0142\n",
      "Epoch 2/50\n",
      "38/38 [==============================] - 0s 6ms/step - loss: 0.0027\n",
      "Epoch 3/50\n",
      "38/38 [==============================] - 0s 6ms/step - loss: 0.0020\n",
      "Epoch 4/50\n",
      "38/38 [==============================] - 0s 5ms/step - loss: 0.0019\n",
      "Epoch 5/50\n",
      "38/38 [==============================] - 0s 5ms/step - loss: 0.0014\n",
      "Epoch 6/50\n",
      "38/38 [==============================] - 0s 5ms/step - loss: 0.0015\n",
      "Epoch 7/50\n",
      "38/38 [==============================] - 0s 5ms/step - loss: 9.8808e-04\n",
      "Epoch 8/50\n",
      "38/38 [==============================] - 0s 5ms/step - loss: 0.0012\n",
      "Epoch 9/50\n",
      "38/38 [==============================] - 0s 5ms/step - loss: 9.5310e-04\n",
      "Epoch 10/50\n",
      "38/38 [==============================] - 0s 5ms/step - loss: 0.0011\n",
      "Epoch 11/50\n",
      "38/38 [==============================] - 0s 5ms/step - loss: 8.7565e-04\n",
      "Epoch 12/50\n",
      "38/38 [==============================] - 0s 5ms/step - loss: 8.3132e-04\n",
      "Epoch 13/50\n",
      "38/38 [==============================] - 0s 5ms/step - loss: 8.8392e-04\n",
      "Epoch 14/50\n",
      "38/38 [==============================] - 0s 6ms/step - loss: 7.0620e-04\n",
      "Epoch 15/50\n",
      "38/38 [==============================] - 0s 5ms/step - loss: 7.5429e-04\n",
      "Epoch 16/50\n",
      "38/38 [==============================] - 0s 6ms/step - loss: 6.6566e-04\n",
      "Epoch 17/50\n",
      "38/38 [==============================] - 0s 5ms/step - loss: 6.7891e-04\n",
      "Epoch 18/50\n",
      "38/38 [==============================] - 0s 6ms/step - loss: 5.6344e-04\n",
      "Epoch 19/50\n",
      "38/38 [==============================] - 0s 5ms/step - loss: 6.5472e-04\n",
      "Epoch 20/50\n",
      "38/38 [==============================] - 0s 5ms/step - loss: 5.9870e-04\n",
      "Epoch 21/50\n",
      "38/38 [==============================] - 0s 6ms/step - loss: 6.4928e-04\n",
      "Epoch 22/50\n",
      "38/38 [==============================] - 0s 5ms/step - loss: 5.9480e-04\n",
      "Epoch 23/50\n",
      "38/38 [==============================] - 0s 5ms/step - loss: 5.6624e-04\n",
      "Epoch 24/50\n",
      "38/38 [==============================] - 0s 5ms/step - loss: 5.3980e-04\n",
      "Epoch 25/50\n",
      "38/38 [==============================] - 0s 5ms/step - loss: 5.5239e-04\n",
      "Epoch 26/50\n",
      "38/38 [==============================] - 0s 5ms/step - loss: 4.6147e-04\n",
      "Epoch 27/50\n",
      "38/38 [==============================] - 0s 5ms/step - loss: 5.0343e-04\n",
      "Epoch 28/50\n",
      "38/38 [==============================] - 0s 5ms/step - loss: 5.1111e-04\n",
      "Epoch 29/50\n",
      "38/38 [==============================] - 0s 5ms/step - loss: 4.9414e-04\n",
      "Epoch 30/50\n",
      "38/38 [==============================] - 0s 6ms/step - loss: 5.0663e-04\n",
      "Epoch 31/50\n",
      "38/38 [==============================] - 0s 5ms/step - loss: 4.3810e-04\n",
      "Epoch 32/50\n",
      "38/38 [==============================] - 0s 5ms/step - loss: 4.6394e-04\n",
      "Epoch 33/50\n",
      "38/38 [==============================] - 0s 5ms/step - loss: 4.7568e-04\n",
      "Epoch 34/50\n",
      "38/38 [==============================] - 0s 5ms/step - loss: 4.5580e-04\n",
      "Epoch 35/50\n",
      "38/38 [==============================] - 0s 5ms/step - loss: 4.3213e-04\n",
      "Epoch 36/50\n",
      "38/38 [==============================] - 0s 5ms/step - loss: 4.2901e-04\n",
      "Epoch 37/50\n",
      "38/38 [==============================] - 0s 5ms/step - loss: 4.2385e-04\n",
      "Epoch 38/50\n",
      "38/38 [==============================] - 0s 5ms/step - loss: 4.4047e-04\n",
      "Epoch 39/50\n",
      "38/38 [==============================] - 0s 6ms/step - loss: 4.1376e-04\n",
      "Epoch 40/50\n",
      "38/38 [==============================] - 0s 6ms/step - loss: 3.9443e-04\n",
      "Epoch 41/50\n",
      "38/38 [==============================] - 0s 5ms/step - loss: 4.3591e-04\n",
      "Epoch 42/50\n",
      "38/38 [==============================] - 0s 5ms/step - loss: 4.1028e-04\n",
      "Epoch 43/50\n",
      "38/38 [==============================] - 0s 5ms/step - loss: 4.7361e-04\n",
      "Epoch 44/50\n",
      "38/38 [==============================] - 0s 5ms/step - loss: 3.1782e-04\n",
      "Epoch 45/50\n",
      "38/38 [==============================] - 0s 6ms/step - loss: 3.8704e-04\n",
      "Epoch 46/50\n",
      "38/38 [==============================] - 0s 5ms/step - loss: 4.0066e-04\n",
      "Epoch 47/50\n",
      "38/38 [==============================] - 0s 5ms/step - loss: 4.1317e-04\n",
      "Epoch 48/50\n",
      "38/38 [==============================] - 0s 5ms/step - loss: 3.0195e-04\n",
      "Epoch 49/50\n",
      "38/38 [==============================] - 0s 6ms/step - loss: 3.9683e-04\n",
      "Epoch 50/50\n",
      "38/38 [==============================] - 0s 6ms/step - loss: 3.5693e-04\n"
     ]
    },
    {
     "data": {
      "text/plain": [
       "<keras.callbacks.History at 0x7f9200387ad0>"
      ]
     },
     "execution_count": 15,
     "metadata": {},
     "output_type": "execute_result"
    }
   ],
   "source": [
    "## Fitting the model\n",
    "model_lstm.fit(X_train, y_train, epochs=50, batch_size=32)"
   ]
  },
  {
   "cell_type": "markdown",
   "metadata": {
    "id": "LOfbXTkRAwKD"
   },
   "source": [
    "### Predicting the values on Test Dataset"
   ]
  },
  {
   "cell_type": "code",
   "execution_count": null,
   "metadata": {
    "colab": {
     "base_uri": "https://localhost:8080/"
    },
    "id": "dWFscnRAAZYb",
    "outputId": "6857d9f5-8d06-4798-b9e4-69a13ca6b937"
   },
   "outputs": [
    {
     "name": "stdout",
     "output_type": "stream",
     "text": [
      "<class 'method'>\n"
     ]
    }
   ],
   "source": [
    "dataset_total = dataset.loc[:,\"High\"]\n",
    "inputs = dataset_total[len(dataset_total) - len(test_set) - n_steps :].values\n",
    "print(type(input))\n"
   ]
  },
  {
   "cell_type": "code",
   "execution_count": null,
   "metadata": {
    "colab": {
     "base_uri": "https://localhost:8080/"
    },
    "id": "EUiQ_3u1zJRr",
    "outputId": "30528d5e-bd1a-428f-b401-41089f2c3134"
   },
   "outputs": [
    {
     "data": {
      "text/plain": [
       "array([342.56874365, 345.9927892 , 351.63512734, 353.2671063 ,\n",
       "       349.78420007])"
      ]
     },
     "execution_count": 17,
     "metadata": {},
     "output_type": "execute_result"
    }
   ],
   "source": [
    "inputs[:5]"
   ]
  },
  {
   "cell_type": "code",
   "execution_count": null,
   "metadata": {
    "id": "SA238mRCA4tx"
   },
   "outputs": [],
   "source": [
    "inputs = inputs.reshape(-1, 1)\n",
    "\n",
    "#scaling\n",
    "inputs = sc.transform(inputs)\n",
    "\n",
    "# Split into samples\n",
    "X_test, y_test = split_sequence(inputs, n_steps)\n",
    "\n",
    "# reshape\n",
    "X_test = X_test.reshape(X_test.shape[0], X_test.shape[1], features)\n",
    "\n",
    "#prediction\n",
    "predicted_stock_price = model_lstm.predict(X_test)\n",
    "\n",
    "#inverse transform the values\n",
    "predicted_stock_price = sc.inverse_transform(predicted_stock_price)"
   ]
  },
  {
   "cell_type": "code",
   "execution_count": null,
   "metadata": {
    "id": "EJPs4NE8CRmB"
   },
   "outputs": [],
   "source": [
    "def plot_predictions(test, predicted):\n",
    "    plt.plot(test, color=\"gray\", label=\"Real\")\n",
    "    plt.plot(predicted, color=\"red\", label=\"Predicted\")\n",
    "    plt.title(\"MasterCard Stock Price Prediction\")\n",
    "    plt.xlabel(\"Time\")\n",
    "    plt.ylabel(\"MasterCard Stock Price\")\n",
    "    plt.legend()\n",
    "    plt.show()\n",
    "\n",
    "\n",
    "def return_rmse(test, predicted):\n",
    "    rmse = np.sqrt(mean_squared_error(test, predicted))\n",
    "    print(\"The root mean squared error is {:.2f}.\".format(rmse))"
   ]
  },
  {
   "cell_type": "code",
   "execution_count": null,
   "metadata": {
    "colab": {
     "base_uri": "https://localhost:8080/",
     "height": 295
    },
    "id": "8zT26z4_CSY3",
    "outputId": "e44597c4-de06-4b7b-d097-ee187f205b82"
   },
   "outputs": [
    {
     "data": {
      "image/png": "[encoded data removed]",
      "text/plain": [
       "<Figure size 432x288 with 1 Axes>"
      ]
     },
     "metadata": {
      "needs_background": "light"
     },
     "output_type": "display_data"
    }
   ],
   "source": [
    "plot_predictions(test_set,predicted_stock_price)"
   ]
  },
  {
   "cell_type": "code",
   "execution_count": null,
   "metadata": {
    "colab": {
     "base_uri": "https://localhost:8080/"
    },
    "id": "DQSoWcvqCWRT",
    "outputId": "0025c4c5-6f36-4c94-9842-72addf1be38b"
   },
   "outputs": [
    {
     "name": "stdout",
     "output_type": "stream",
     "text": [
      "The root mean squared error is 6.53.\n"
     ]
    }
   ],
   "source": [
    "return_rmse(test_set,predicted_stock_price)"
   ]
  },
  {
   "cell_type": "markdown",
   "metadata": {
    "id": "z4wkb7IjCvqS"
   },
   "source": [
    "## GRU Model"
   ]
  },
  {
   "cell_type": "code",
   "execution_count": null,
   "metadata": {
    "colab": {
     "base_uri": "https://localhost:8080/"
    },
    "id": "Ly25EyMECbzv",
    "outputId": "d80df5b1-222d-472b-f733-006206f5fdf7"
   },
   "outputs": [
    {
     "name": "stdout",
     "output_type": "stream",
     "text": [
      "Model: \"sequential_1\"\n",
      "_________________________________________________________________\n",
      " Layer (type)                Output Shape              Param #   \n",
      "=================================================================\n",
      " gru (GRU)                   (None, 125)               48000     \n",
      "                                                                 \n",
      " dense_1 (Dense)             (None, 1)                 126       \n",
      "                                                                 \n",
      "=================================================================\n",
      "Total params: 48,126\n",
      "Trainable params: 48,126\n",
      "Non-trainable params: 0\n",
      "_________________________________________________________________\n"
     ]
    }
   ],
   "source": [
    "model_gru = Sequential()\n",
    "model_gru.add(GRU(units=125, activation=\"tanh\", input_shape=(n_steps, features)))\n",
    "model_gru.add(Dense(units=1))\n",
    "# Compiling the RNN\n",
    "model_gru.compile(optimizer=\"RMSprop\", loss=\"mse\")\n",
    "\n",
    "model_gru.summary()"
   ]
  },
  {
   "cell_type": "code",
   "execution_count": null,
   "metadata": {
    "colab": {
     "base_uri": "https://localhost:8080/"
    },
    "id": "fPGVcspHC4Qr",
    "outputId": "6e7c3aa4-8f04-4766-a756-d1ded47e6ff4"
   },
   "outputs": [
    {
     "name": "stdout",
     "output_type": "stream",
     "text": [
      "Epoch 1/50\n",
      "38/38 [==============================] - 2s 7ms/step - loss: 0.0192\n",
      "Epoch 2/50\n",
      "38/38 [==============================] - 0s 6ms/step - loss: 0.0021\n",
      "Epoch 3/50\n",
      "38/38 [==============================] - 0s 5ms/step - loss: 0.0016\n",
      "Epoch 4/50\n",
      "38/38 [==============================] - 0s 5ms/step - loss: 0.0013\n",
      "Epoch 5/50\n",
      "38/38 [==============================] - 0s 5ms/step - loss: 9.1869e-04\n",
      "Epoch 6/50\n",
      "38/38 [==============================] - 0s 5ms/step - loss: 9.9658e-04\n",
      "Epoch 7/50\n",
      "38/38 [==============================] - 0s 5ms/step - loss: 6.7015e-04\n",
      "Epoch 8/50\n",
      "38/38 [==============================] - 0s 5ms/step - loss: 7.6807e-04\n",
      "Epoch 9/50\n",
      "38/38 [==============================] - 0s 5ms/step - loss: 6.7032e-04\n",
      "Epoch 10/50\n",
      "38/38 [==============================] - 0s 5ms/step - loss: 7.1882e-04\n",
      "Epoch 11/50\n",
      "38/38 [==============================] - 0s 5ms/step - loss: 5.9916e-04\n",
      "Epoch 12/50\n",
      "38/38 [==============================] - 0s 6ms/step - loss: 5.4594e-04\n",
      "Epoch 13/50\n",
      "38/38 [==============================] - 0s 5ms/step - loss: 5.8021e-04\n",
      "Epoch 14/50\n",
      "38/38 [==============================] - 0s 5ms/step - loss: 5.2089e-04\n",
      "Epoch 15/50\n",
      "38/38 [==============================] - 0s 5ms/step - loss: 5.1171e-04\n",
      "Epoch 16/50\n",
      "38/38 [==============================] - 0s 5ms/step - loss: 4.6180e-04\n",
      "Epoch 17/50\n",
      "38/38 [==============================] - 0s 5ms/step - loss: 5.6798e-04\n",
      "Epoch 18/50\n",
      "38/38 [==============================] - 0s 5ms/step - loss: 4.5032e-04\n",
      "Epoch 19/50\n",
      "38/38 [==============================] - 0s 5ms/step - loss: 4.4684e-04\n",
      "Epoch 20/50\n",
      "38/38 [==============================] - 0s 5ms/step - loss: 4.5171e-04\n",
      "Epoch 21/50\n",
      "38/38 [==============================] - 0s 5ms/step - loss: 5.0029e-04\n",
      "Epoch 22/50\n",
      "38/38 [==============================] - 0s 5ms/step - loss: 4.5754e-04\n",
      "Epoch 23/50\n",
      "38/38 [==============================] - 0s 5ms/step - loss: 4.2852e-04\n",
      "Epoch 24/50\n",
      "38/38 [==============================] - 0s 5ms/step - loss: 4.4657e-04\n",
      "Epoch 25/50\n",
      "38/38 [==============================] - 0s 5ms/step - loss: 4.4711e-04\n",
      "Epoch 26/50\n",
      "38/38 [==============================] - 0s 5ms/step - loss: 4.4203e-04\n",
      "Epoch 27/50\n",
      "38/38 [==============================] - 0s 5ms/step - loss: 3.7393e-04\n",
      "Epoch 28/50\n",
      "38/38 [==============================] - 0s 5ms/step - loss: 4.1123e-04\n",
      "Epoch 29/50\n",
      "38/38 [==============================] - 0s 5ms/step - loss: 3.8233e-04\n",
      "Epoch 30/50\n",
      "38/38 [==============================] - 0s 5ms/step - loss: 4.0654e-04\n",
      "Epoch 31/50\n",
      "38/38 [==============================] - 0s 5ms/step - loss: 3.7076e-04\n",
      "Epoch 32/50\n",
      "38/38 [==============================] - 0s 5ms/step - loss: 3.4777e-04\n",
      "Epoch 33/50\n",
      "38/38 [==============================] - 0s 6ms/step - loss: 3.8306e-04\n",
      "Epoch 34/50\n",
      "38/38 [==============================] - 0s 5ms/step - loss: 3.7727e-04\n",
      "Epoch 35/50\n",
      "38/38 [==============================] - 0s 5ms/step - loss: 3.5735e-04\n",
      "Epoch 36/50\n",
      "38/38 [==============================] - 0s 6ms/step - loss: 3.6261e-04\n",
      "Epoch 37/50\n",
      "38/38 [==============================] - 0s 5ms/step - loss: 3.5584e-04\n",
      "Epoch 38/50\n",
      "38/38 [==============================] - 0s 5ms/step - loss: 3.5227e-04\n",
      "Epoch 39/50\n",
      "38/38 [==============================] - 0s 5ms/step - loss: 3.4520e-04\n",
      "Epoch 40/50\n",
      "38/38 [==============================] - 0s 5ms/step - loss: 3.6229e-04\n",
      "Epoch 41/50\n",
      "38/38 [==============================] - 0s 5ms/step - loss: 3.4912e-04\n",
      "Epoch 42/50\n",
      "38/38 [==============================] - 0s 5ms/step - loss: 2.9550e-04\n",
      "Epoch 43/50\n",
      "38/38 [==============================] - 0s 5ms/step - loss: 4.2929e-04\n",
      "Epoch 44/50\n",
      "38/38 [==============================] - 0s 5ms/step - loss: 2.8615e-04\n",
      "Epoch 45/50\n",
      "38/38 [==============================] - 0s 5ms/step - loss: 3.3176e-04\n",
      "Epoch 46/50\n",
      "38/38 [==============================] - 0s 5ms/step - loss: 3.5285e-04\n",
      "Epoch 47/50\n",
      "38/38 [==============================] - 0s 5ms/step - loss: 3.4812e-04\n",
      "Epoch 48/50\n",
      "38/38 [==============================] - 0s 5ms/step - loss: 2.5942e-04\n",
      "Epoch 49/50\n",
      "38/38 [==============================] - 0s 5ms/step - loss: 3.8140e-04\n",
      "Epoch 50/50\n",
      "38/38 [==============================] - 0s 5ms/step - loss: 2.9917e-04\n"
     ]
    },
    {
     "data": {
      "text/plain": [
       "<keras.callbacks.History at 0x7f918e020e90>"
      ]
     },
     "execution_count": 23,
     "metadata": {},
     "output_type": "execute_result"
    }
   ],
   "source": [
    "model_gru.fit(X_train, y_train, epochs=50, batch_size=32)"
   ]
  },
  {
   "cell_type": "code",
   "execution_count": null,
   "metadata": {
    "colab": {
     "base_uri": "https://localhost:8080/",
     "height": 295
    },
    "id": "Sj5E4pemC9UR",
    "outputId": "13f7b5a8-fdbc-49cd-f0a7-83da37a9120d"
   },
   "outputs": [
    {
     "data": {
      "image/png": "[encoded data removed]",
      "text/plain": [
       "<Figure size 432x288 with 1 Axes>"
      ]
     },
     "metadata": {
      "needs_background": "light"
     },
     "output_type": "display_data"
    }
   ],
   "source": [
    "GRU_predicted_stock_price = model_gru.predict(X_test)\n",
    "GRU_predicted_stock_price = sc.inverse_transform(GRU_predicted_stock_price)\n",
    "plot_predictions(test_set, GRU_predicted_stock_price)"
   ]
  },
  {
   "cell_type": "code",
   "execution_count": null,
   "metadata": {
    "colab": {
     "base_uri": "https://localhost:8080/"
    },
    "id": "YYYyopUkDEEG",
    "outputId": "c21ceaae-b4ba-4633-a4cd-3111ad88c804"
   },
   "outputs": [
    {
     "name": "stdout",
     "output_type": "stream",
     "text": [
      "The root mean squared error is 5.43.\n"
     ]
    }
   ],
   "source": [
    "return_rmse(test_set,GRU_predicted_stock_price)"
   ]
  },
  {
   "cell_type": "code",
   "execution_count": null,
   "metadata": {
    "id": "F0KMupmQDJNK"
   },
   "outputs": [],
   "source": []
  }
 ],
 "metadata": {
  "accelerator": "GPU",
  "colab": {
   "provenance": []
  },
  "kernelspec": {
   "display_name": "Python 3 (ipykernel)",
   "language": "python",
   "name": "python3"
  },
  "language_info": {
   "codemirror_mode": {
    "name": "ipython",
    "version": 3
   },
   "file_extension": ".py",
   "mimetype": "text/x-python",
   "name": "python",
   "nbconvert_exporter": "python",
   "pygments_lexer": "ipython3",
   "version": "3.9.12"
  }
 },
 "nbformat": 4,
 "nbformat_minor": 1
}
